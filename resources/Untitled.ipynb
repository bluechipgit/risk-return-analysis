{
 "cells": [
  {
   "cell_type": "code",
   "execution_count": 1,
   "id": "9cc91367-07ff-4bf1-aa24-18dec7b8e7ca",
   "metadata": {},
   "outputs": [],
   "source": [
    "import pandas as pd\n",
    "import requests\n",
    "import json"
   ]
  },
  {
   "cell_type": "code",
   "execution_count": 6,
   "id": "97e02979-14a3-4fee-9856-977c07064174",
   "metadata": {},
   "outputs": [
    {
     "name": "stdout",
     "output_type": "stream",
     "text": [
      "{\n",
      "    \"data\": {\n",
      "        \"2\": {\n",
      "            \"circulating_supply\": 70825733,\n",
      "            \"id\": 2,\n",
      "            \"last_updated\": 1659109726,\n",
      "            \"max_supply\": 84000000,\n",
      "            \"name\": \"Litecoin\",\n",
      "            \"quotes\": {\n",
      "                \"USD\": {\n",
      "                    \"market_cap\": 4368206876,\n",
      "                    \"percent_change_1h\": -0.556113584281403,\n",
      "                    \"percent_change_24h\": 0.380419837955979,\n",
      "                    \"percent_change_7d\": 6.29491641484391,\n",
      "                    \"percentage_change_1h\": -0.556113584281403,\n",
      "                    \"percentage_change_24h\": 0.380419837955979,\n",
      "                    \"percentage_change_7d\": 6.29491641484391,\n",
      "                    \"price\": 61.73,\n",
      "                    \"volume_24h\": 732386114\n",
      "                }\n",
      "            },\n",
      "            \"rank\": 15,\n",
      "            \"symbol\": \"LTC\",\n",
      "            \"total_supply\": 70825733,\n",
      "            \"website_slug\": \"litecoin\"\n",
      "        }\n",
      "    },\n",
      "    \"metadata\": {\n",
      "        \"error\": null,\n",
      "        \"num_cryptocurrencies\": 3116,\n",
      "        \"timestamp\": 1659109726\n",
      "    }\n",
      "}\n"
     ]
    }
   ],
   "source": [
    "# Set the Ripple endpoint\n",
    "ltc_url = \"https://api.alternative.me/v2/ticker/Litecoin/\"\n",
    "\n",
    "# Fetch the current Ripple price\n",
    "response_xrp = requests.get(ltc_url).json()\n",
    "\n",
    "# Display response data\n",
    "print(json.dumps(ltc_response, indent=4, sort_keys=True))"
   ]
  },
  {
   "cell_type": "code",
   "execution_count": 7,
   "id": "a4c84be5-1d45-4b0d-8306-bf694fc613b7",
   "metadata": {},
   "outputs": [
    {
     "name": "stdout",
     "output_type": "stream",
     "text": [
      "The symbol for Ripple is LTC\n"
     ]
    }
   ],
   "source": [
    "xrp_symbol = response_xrp['data']['2']['symbol']\n",
    "print(f\"The symbol for Ripple is {xrp_symbol}\")"
   ]
  }
 ],
 "metadata": {
  "kernelspec": {
   "display_name": "Python 3 (ipykernel)",
   "language": "python",
   "name": "python3"
  },
  "language_info": {
   "codemirror_mode": {
    "name": "ipython",
    "version": 3
   },
   "file_extension": ".py",
   "mimetype": "text/x-python",
   "name": "python",
   "nbconvert_exporter": "python",
   "pygments_lexer": "ipython3",
   "version": "3.7.13"
  }
 },
 "nbformat": 4,
 "nbformat_minor": 5
}
